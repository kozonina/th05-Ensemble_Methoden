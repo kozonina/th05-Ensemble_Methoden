{
 "cells": [
  {
   "cell_type": "markdown",
   "metadata": {},
   "source": [
    "# Übungen zu Ensemble Methoden"
   ]
  },
  {
   "cell_type": "markdown",
   "metadata": {},
   "source": [
    "## Aufgabe 1  (Theorie)"
   ]
  },
  {
   "cell_type": "markdown",
   "metadata": {},
   "source": [
    "1) Was ist das Ziel des Boosting Algorithmus?"
   ]
  },
  {
   "cell_type": "markdown",
   "metadata": {},
   "source": [
    "2) Was versteht man unter `Bootstrapping` und wo wird es benötig? "
   ]
  },
  {
   "cell_type": "markdown",
   "metadata": {},
   "source": [
    "3) Was verteht man unter `Konfusionsmatrix` ?"
   ]
  },
  {
   "cell_type": "markdown",
   "metadata": {},
   "source": [
    "## Aufgabe 2 : Random Forest "
   ]
  },
  {
   "cell_type": "markdown",
   "metadata": {},
   "source": [
    "Für diese Aufgabe benötigen Sie den echten Datensatz von Herzerkrankungen von die UCI machine learning repository.  \n",
    "Url für den Datasatz: http://archive.ics.uci.edu/ml/machine-learning-databases/heart-disease/processed.cleveland.data\n",
    "Informationen über den Datasatz: http://archive.ics.uci.edu/ml/datasets/Heart+Disease\n",
    "\n",
    "### 2.1 Daten bearbeiten\n",
    "\n",
    "1) Betrachten Sie die ersten Zeile des Datensatzes. Benennen Sie sinnvoll die Variablen um, mit Hilfe der oben angegebenen Seite.\n",
    "\n",
    "2) Geben Sie die Struktur des Datensatzes aus. Falls es Missings gibt (?), ersetzen Sie die mit \"NA\". Addieren Sie Faktoren für die Variablen die Faktoren sind und überprüfen Sie, ob alles geklappt hat. <br>\n",
    "\n",
    "**Hinweis Nr.1 :** Für die Variable \"Sex\" müssen Sie erst eine ifelse-Methode benutzen wie folgt : `data$sex <- ifelse(test=data$sex ==0, yes=\"F\", no= \"M\")` und dann den Faktor addieren. Die gleiche Methode wird auch bei der Variable \"num\"(diagnosis of heart disease) benötigt. Geben Sie die zwei folgende Werte : Healthy & Unhealthy an.\n",
    "\n",
    "**Hinweis Nr.2 :** Variablen die ein \"NA\" enthalten, müssen erst als integer definiert werden und dann als Faktoren\n",
    "### 2.2 Random Forest bilden. \n",
    "\n",
    "1) Library(randomForest) und set.seed(42) einfügen,dass jeder den gleichen Random Forest generiert. <br>\n",
    "2) Erst müssen Sie für die \"NA\"s  mit Hilfe der [rfImpute](https://www.rdocumentation.org/packages/randomForest/versions/4.6-14/topics/rfImpute) function Werte angeben. \n",
    "\n",
    "3) `num` ist die Variable, die den Random Forest vorhersagen soll. Legen Sie die Anzahl von Iterationen gleich 6 fest. Jetzt können Sie das Random Forest mit 300 Bäume generieren.\n",
    "\n",
    "4) Intepretieren Sie den Wert von `OOB estimate of  error rate` und berechnen Sie den Durchschnitt des OOB- Fehlerschätzers. Was verstehen Sie unter diesem Wert? \n",
    "\n",
    "5) Zeigen Sie welche Variablen am wicthigsten sind.\n",
    "\n",
    "6) Intepretieren Sie, ob die angegebe Anzahl von Bäume, eine gute Anzahl für unseren Datensatz ist."
   ]
  },
  {
   "cell_type": "markdown",
   "metadata": {},
   "source": [
    "![Viel Erfolg](img/VielErfolg.jpg)"
   ]
  }
 ],
 "metadata": {
  "kernelspec": {
   "display_name": "R",
   "language": "R",
   "name": "ir"
  },
  "language_info": {
   "codemirror_mode": "r",
   "file_extension": ".r",
   "mimetype": "text/x-r-source",
   "name": "R",
   "pygments_lexer": "r",
   "version": "3.4.3"
  }
 },
 "nbformat": 4,
 "nbformat_minor": 2
}
